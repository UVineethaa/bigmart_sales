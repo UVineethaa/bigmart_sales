{
 "cells": [
  {
   "cell_type": "code",
   "execution_count": 1,
   "metadata": {},
   "outputs": [
    {
     "name": "stdout",
     "output_type": "stream",
     "text": [
      "Shape of features (X): (8523, 11)\n",
      "Shape of target (Y): (8523,)\n",
      "Model saved as model.pkl\n",
      "R Squared value on training data = 0.8762174618111388\n",
      "R Squared value on test data = 0.5017253991620692\n",
      "Feature names used in the model: ['Item_Identifier', 'Item_Weight', 'Item_Fat_Content', 'Item_Visibility', 'Item_Type', 'Item_MRP', 'Outlet_Identifier', 'Outlet_Establishment_Year', 'Outlet_Size', 'Outlet_Location_Type', 'Outlet_Type']\n",
      "Feature names in test data: ['Item_Identifier', 'Item_Weight', 'Item_Fat_Content', 'Item_Visibility', 'Item_Type', 'Item_MRP', 'Outlet_Identifier', 'Outlet_Establishment_Year', 'Outlet_Size', 'Outlet_Location_Type', 'Outlet_Type']\n"
     ]
    }
   ],
   "source": [
    "import numpy as np\n",
    "import pandas as pd\n",
    "import matplotlib.pyplot as plt\n",
    "import seaborn as sns\n",
    "from sklearn.preprocessing import LabelEncoder\n",
    "from sklearn.model_selection import train_test_split\n",
    "from xgboost import XGBRegressor\n",
    "from sklearn import metrics\n",
    "import pickle\n",
    "\n",
    "# Load the dataset\n",
    "big_mart_data = pd.read_csv('Train.csv')\n",
    "\n",
    "# Data preprocessing\n",
    "# Fill missing values in 'Item_Weight' with the mean\n",
    "big_mart_data['Item_Weight'].fillna(big_mart_data['Item_Weight'].mean(), inplace=True)\n",
    "\n",
    "# Fill missing values in 'Outlet_Size' based on the mode of 'Outlet_Type'\n",
    "mode_of_Outlet_size = big_mart_data.pivot_table(values='Outlet_Size', columns='Outlet_Type', aggfunc=lambda x: x.mode()[0])\n",
    "miss_values = big_mart_data['Outlet_Size'].isnull()\n",
    "big_mart_data.loc[miss_values, 'Outlet_Size'] = big_mart_data.loc[miss_values, 'Outlet_Type'].apply(lambda x: mode_of_Outlet_size[x])\n",
    "\n",
    "# Standardize 'Item_Fat_Content' values\n",
    "big_mart_data['Item_Fat_Content'].replace({'low fat': 'Low Fat', 'LF': 'Low Fat', 'reg': 'Regular'}, inplace=True)\n",
    "\n",
    "# Encode categorical variables\n",
    "encoder = LabelEncoder()\n",
    "for col in ['Item_Identifier', 'Item_Fat_Content', 'Item_Type', 'Outlet_Identifier', 'Outlet_Size', 'Outlet_Location_Type', 'Outlet_Type']:\n",
    "    big_mart_data[col] = encoder.fit_transform(big_mart_data[col])\n",
    "\n",
    "# Splitting the dataset into features and target variable\n",
    "X = big_mart_data.drop(columns='Item_Outlet_Sales', axis=1)\n",
    "Y = big_mart_data['Item_Outlet_Sales']\n",
    "\n",
    "# Check the shape of X and Y\n",
    "print(\"Shape of features (X):\", X.shape)\n",
    "print(\"Shape of target (Y):\", Y.shape)\n",
    "\n",
    "# Splitting the dataset into training and test sets\n",
    "X_train, X_test, Y_train, Y_test = train_test_split(X, Y, test_size=0.2, random_state=2)\n",
    "\n",
    "# Training the \n",
    "regressor = XGBRegressor()\n",
    "regressor.fit(X_train, Y_train)\n",
    "\n",
    "# Save the model as a pickle file\n",
    "model_filename = 'model.pkl'\n",
    "with open(model_filename, 'wb') as file:\n",
    "    pickle.dump(regressor, file)\n",
    "\n",
    "print(f\"Model saved as {model_filename}\")\n",
    "\n",
    "# Prediction and evaluation\n",
    "training_data_prediction = regressor.predict(X_train)\n",
    "r2_train = metrics.r2_score(Y_train, training_data_prediction)\n",
    "print('R Squared value on training data =', r2_train)\n",
    "\n",
    "test_data_prediction = regressor.predict(X_test)\n",
    "r2_test = metrics.r2_score(Y_test, test_data_prediction)\n",
    "print('R Squared value on test data =', r2_test)\n",
    "\n",
    "# Check the feature names used in the model\n",
    "print(\"Feature names used in the model:\", X.columns.tolist())\n",
    "\n",
    "# Ensure that the test data has the same features\n",
    "print(\"Feature names in test data:\", X_test.columns.tolist())"
   ]
  }
 ],
 "metadata": {
  "kernelspec": {
   "display_name": "base",
   "language": "python",
   "name": "python3"
  },
  "language_info": {
   "codemirror_mode": {
    "name": "ipython",
    "version": 3
   },
   "file_extension": ".py",
   "mimetype": "text/x-python",
   "name": "python",
   "nbconvert_exporter": "python",
   "pygments_lexer": "ipython3",
   "version": "3.11.5"
  }
 },
 "nbformat": 4,
 "nbformat_minor": 2
}
